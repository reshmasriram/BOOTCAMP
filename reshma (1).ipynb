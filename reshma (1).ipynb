{
  "nbformat": 4,
  "nbformat_minor": 0,
  "metadata": {
    "colab": {
      "name": "reshma.ipynb",
      "provenance": []
    },
    "kernelspec": {
      "name": "python3",
      "display_name": "Python 3"
    },
    "language_info": {
      "name": "python"
    }
  },
  "cells": [
    {
      "cell_type": "code",
      "metadata": {
        "colab": {
          "base_uri": "https://localhost:8080/"
        },
        "id": "yctGDzH1_5qO",
        "outputId": "af9376b1-df8b-400c-a696-90667a71dcf6"
      },
      "source": [
        "import requests, json\n",
        "from datetime import datetime\n",
        "api_key = \"9054108b61d97f7a1a533be381cf807c\"\n",
        "base_url = \"http://api.openweathermap.org/data/2.5/weather?\"\n",
        "city_name = input(\"Enter city name : \")\n",
        "complete_url = base_url + \"appid=\" + api_key + \"&q=\" + city_name\n",
        "response = requests.get(complete_url)\n",
        "x = response.json()\n",
        "now = datetime.now()\n",
        "dt_string = now.strftime(\"%d/%m/%Y %H:%M:%S\")\n",
        "if x[\"cod\"] != \"404\":\n",
        "    y = x[\"main\"]\n",
        "    current_temperature = y[\"temp\"]\n",
        "    current_pressure = y[\"pressure\"]\n",
        "    current_humidity = y[\"humidity\"]\n",
        "    z = x[\"weather\"]\n",
        "    weather_description = z[0][\"description\"]\n",
        "    print(' Date & Time:',dt_string)\n",
        "    print(\" Temperature (in kelvin unit) = \" +\n",
        "                    str(current_temperature) +\n",
        "          \"\\n atmospheric pressure (in hPa unit) = \" +\n",
        "                    str(current_pressure) +\n",
        "          \"\\n humidity (in percentage) = \" +\n",
        "                    str(current_humidity) +\n",
        "          \"\\n description = \" +\n",
        "                    str(weather_description))\n",
        "else:\n",
        "    print(\" City Not Found \")"
      ],
      "execution_count": 1,
      "outputs": [
        {
          "output_type": "stream",
          "text": [
            "Enter city name : chennai\n",
            " Date & Time: 28/07/2021 16:46:27\n",
            " Temperature (in kelvin unit) = 304.14\n",
            " atmospheric pressure (in hPa unit) = 1005\n",
            " humidity (in percentage) = 70\n",
            " description = scattered clouds\n"
          ],
          "name": "stdout"
        }
      ]
    }
  ]
}